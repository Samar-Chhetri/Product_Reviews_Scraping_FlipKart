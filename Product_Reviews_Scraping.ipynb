{
  "cells": [
    {
      "cell_type": "markdown",
      "metadata": {
        "id": "YhlZo6Ud4nic"
      },
      "source": [
        "# **Overview**"
      ]
    },
    {
      "cell_type": "markdown",
      "metadata": {
        "id": "FebokdRf3TiB"
      },
      "source": [
        "### **In this project, we will extract all the customer reviews from Realme 11 Pro 5g smartphone. We will fetch data from FlipKart using Beautiful Soup and Request module.**\n",
        "### **The collected reviews can be used for analysing customer sentiments and providing recommendations.**"
      ]
    },
    {
      "cell_type": "markdown",
      "metadata": {
        "id": "VN0fqdzLtZ5g"
      },
      "source": [
        "## **Dependencies**"
      ]
    },
    {
      "cell_type": "code",
      "execution_count": 15,
      "metadata": {
        "id": "7ItXK_lLg7YJ"
      },
      "outputs": [],
      "source": [
        "# Import dependencies\n",
        "import pandas as pd\n",
        "import requests\n",
        "from bs4 import BeautifulSoup"
      ]
    },
    {
      "cell_type": "markdown",
      "metadata": {
        "id": "8_wFsbLGtjJq"
      },
      "source": [
        "##**Fetching URL**"
      ]
    },
    {
      "cell_type": "code",
      "execution_count": 16,
      "metadata": {
        "colab": {
          "base_uri": "https://localhost:8080/",
          "height": 0
        },
        "id": "x7wwGEVGh_wG",
        "outputId": "c3d95526-f01a-475d-fd3e-b0e88e187cbc"
      },
      "outputs": [
        {
          "data": {
            "text/plain": [
              "<Response [200]>"
            ]
          },
          "execution_count": 16,
          "metadata": {},
          "output_type": "execute_result"
        }
      ],
      "source": [
        "# Fetching the URL\n",
        "URL = \"https://www.flipkart.com/realme-11-pro-5g-sunrise-beige-256-gb/product-reviews/itm3f783627a36ec?pid=MOBGPUNGGMRMZDQ9&lid=LSTMOBGPUNGGMRMZDQ9IV1HYJ&marketplace=FLIPKART\"\n",
        "response = requests.get(URL)\n",
        "response"
      ]
    },
    {
      "cell_type": "markdown",
      "metadata": {
        "id": "_h5h_Zfht3JV"
      },
      "source": [
        "#### **HTML Skeleton**"
      ]
    },
    {
      "cell_type": "code",
      "execution_count": 17,
      "metadata": {
        "colab": {
          "base_uri": "https://localhost:8080/",
          "height": 0
        },
        "id": "TrcHKl3liYKs",
        "outputId": "8c654ea3-f56a-413a-e632-c2151e57549e"
      },
      "outputs": [],
      "source": [
        "# Fetching the html skeleton\n",
        "soup = BeautifulSoup(response.text, 'html.parser')"
      ]
    },
    {
      "cell_type": "markdown",
      "metadata": {
        "id": "qAlVdat_uCsp"
      },
      "source": [
        "#### **Average Rating**"
      ]
    },
    {
      "cell_type": "code",
      "execution_count": 18,
      "metadata": {
        "colab": {
          "base_uri": "https://localhost:8080/",
          "height": 0
        },
        "id": "pW_XOFI6j4XV",
        "outputId": "ad9665d9-76c4-46e9-fb01-45da49f5584b"
      },
      "outputs": [
        {
          "name": "stdout",
          "output_type": "stream",
          "text": [
            "4.3\n"
          ]
        }
      ],
      "source": [
        "# Average Product Rating\n",
        "avg_rating = soup.find('div', class_=\"_2d4LTz\").text.strip()\n",
        "print(avg_rating)"
      ]
    },
    {
      "cell_type": "markdown",
      "metadata": {
        "id": "w6zxllG9uIyb"
      },
      "source": [
        "#### **Total Ratings and Reviews**"
      ]
    },
    {
      "cell_type": "code",
      "execution_count": 19,
      "metadata": {
        "colab": {
          "base_uri": "https://localhost:8080/",
          "height": 0
        },
        "id": "rGV-SiAEmPZI",
        "outputId": "6ab08de6-6d07-4acd-f6aa-c2bb1067ecef"
      },
      "outputs": [
        {
          "name": "stdout",
          "output_type": "stream",
          "text": [
            "Total number of Ratings : 17,546\n",
            "Total numner of Reviews : 1,778\n"
          ]
        }
      ],
      "source": [
        "# Extract ratings and reviews\n",
        "ratings_n_reveiws = soup.find_all('div', class_=\"row _2afbiS\")\n",
        "total_ratings = ratings_n_reveiws[0].text.split()[0]\n",
        "total_reviews = ratings_n_reveiws[1].text.split()[0]\n",
        "\n",
        "print(f\"Total number of Ratings : {total_ratings}\")\n",
        "print(f\"Total numner of Reviews : {total_reviews}\")\n"
      ]
    },
    {
      "cell_type": "markdown",
      "metadata": {
        "id": "gIOXzVGyuV3t"
      },
      "source": [
        "#### **Customer Reviews**"
      ]
    },
    {
      "cell_type": "code",
      "execution_count": 20,
      "metadata": {
        "colab": {
          "base_uri": "https://localhost:8080/",
          "height": 0
        },
        "id": "IFjRcDXBjFRl",
        "outputId": "a50883f7-62e7-4669-9db5-4046cb94fba4"
      },
      "outputs": [
        {
          "data": {
            "text/plain": [
              "[<div class=\"_1AtVbE col-12-12\"><div class=\"_4ddWXP _3BCh3_ _G-HdA\"><a class=\"_2rpwqI\" href=\"/realme-11-pro-5g-sunrise-beige-256-gb/p/itm3f783627a36ec?pid=MOBGPUNGGMRMZDQ9&amp;fm=organic&amp;ppt=None&amp;ppn=None&amp;ssid=nrtsssgiio0000001690965160066\" rel=\"noopener noreferrer\" target=\"_blank\" title=\"realme 11 Pro 5G (Sunrise Beige, 256 GB)\"><div class=\"_28_T72\"><div><div class=\"CXW8mj\" style=\"height:246px;width:246px\"><img alt=\"realme 11 Pro 5G (Sunrise Beige, 256 GB)\" class=\"_396cs4\" loading=\"eager\" src=\"https://rukminim2.flixcart.com/image/312/312/xif0q/mobile/l/8/d/-original-imagqadpnygfnn2v.jpeg?q=70\"/></div></div></div></a><div><div><a class=\"s1Q9rs _2qfgz2\" href=\"/realme-11-pro-5g-sunrise-beige-256-gb/p/itm3f783627a36ec?pid=MOBGPUNGGMRMZDQ9&amp;fm=organic&amp;ppt=None&amp;ppn=None&amp;ssid=nrtsssgiio0000001690965160066\" rel=\"noopener noreferrer\" target=\"_blank\" title=\"realme 11 Pro 5G (Sunrise Beige, 256 GB)\">realme 11 Pro 5G (Sunrise Beige, 256 GB)</a></div><div class=\"gUuXy-\"><span class=\"_1lRcqv\" id=\"productRating_LSTMOBGPUNGGMRMZDQ9IV1HYJ_MOBGPUNGGMRMZDQ9_\"><div class=\"_3LWZlK\">4.3<img class=\"_1wB99o\" src=\"data:image/svg+xml;base64,PHN2ZyB4bWxucz0iaHR0cDovL3d3dy53My5vcmcvMjAwMC9zdmciIHdpZHRoPSIxMyIgaGVpZ2h0PSIxMiI+PHBhdGggZmlsbD0iI0ZGRiIgZD0iTTYuNSA5LjQzOWwtMy42NzQgMi4yMy45NC00LjI2LTMuMjEtMi44ODMgNC4yNTQtLjQwNEw2LjUuMTEybDEuNjkgNC4wMSA0LjI1NC40MDQtMy4yMSAyLjg4Mi45NCA0LjI2eiIvPjwvc3ZnPg==\"/></div></span><span class=\"_2_R_DZ\"><span><span>17,546 Ratings </span><span class=\"_13vcmD\">&amp;</span><span> 1,778 Reviews</span></span></span></div><div class=\"_8VNy32 lnJjg0\"><div class=\"_25b18c\"><div class=\"_30jeq3\">₹24,999</div><div class=\"_3I9_wc\">₹<!-- -->27,999</div><div class=\"_3Ay6Sb\"><span>10% off</span></div></div></div></div></div></div>]"
            ]
          },
          "execution_count": 20,
          "metadata": {},
          "output_type": "execute_result"
        }
      ],
      "source": [
        "divisions = soup.find_all('div', class_=\"_1AtVbE col-12-12\")\n",
        "divisions[:1]"
      ]
    },
    {
      "cell_type": "code",
      "execution_count": 21,
      "metadata": {
        "colab": {
          "base_uri": "https://localhost:8080/",
          "height": 0
        },
        "id": "v1Cnphm1p8zP",
        "outputId": "3a79d407-cee7-4d4e-d1ab-a4729448c23e"
      },
      "outputs": [
        {
          "data": {
            "text/plain": [
              "[['Super phone go for it'],\n",
              " ['Good 👍'],\n",
              " ['Good product 👍👍👍'],\n",
              " ['so nice in all functions and more in design and colour..'],\n",
              " ['Good'],\n",
              " ['Best Phone 📱 It,s Very Smooth Design Battery 🔋 is Biggest  Phone Design Perfect'],\n",
              " ['Good phone I like u 😊'],\n",
              " ['Worth for moneyGreat DisplaySmooth performance'],\n",
              " ['Nice phone'],\n",
              " ['Amazing']]"
            ]
          },
          "execution_count": 21,
          "metadata": {},
          "output_type": "execute_result"
        }
      ],
      "source": [
        "# Extract customer reviews\n",
        "reviews = []\n",
        "\n",
        "for division in divisions[4:-1]:\n",
        "\n",
        "  review = division.find('div', class_=\"t-ZTKy\").text.split(\"READ MORE\")[0]\n",
        "  reviews.append([review])\n",
        "\n",
        "reviews"
      ]
    },
    {
      "cell_type": "markdown",
      "metadata": {
        "id": "PTF5i4jhtKeJ"
      },
      "source": [
        "#**Convert to DataFrame**"
      ]
    },
    {
      "cell_type": "code",
      "execution_count": 22,
      "metadata": {
        "colab": {
          "base_uri": "https://localhost:8080/",
          "height": 415
        },
        "id": "wFsnFNcCs1Od",
        "outputId": "344aaacd-cec0-4ef9-e399-53b614a1e6c5"
      },
      "outputs": [
        {
          "name": "stdout",
          "output_type": "stream",
          "text": [
            "Total Ratings : 17,546\n",
            "Total Reviews : 1,778\n",
            "Average Rating : 4.3\n"
          ]
        },
        {
          "data": {
            "text/html": [
              "<div>\n",
              "<style scoped>\n",
              "    .dataframe tbody tr th:only-of-type {\n",
              "        vertical-align: middle;\n",
              "    }\n",
              "\n",
              "    .dataframe tbody tr th {\n",
              "        vertical-align: top;\n",
              "    }\n",
              "\n",
              "    .dataframe thead th {\n",
              "        text-align: right;\n",
              "    }\n",
              "</style>\n",
              "<table border=\"1\" class=\"dataframe\">\n",
              "  <thead>\n",
              "    <tr style=\"text-align: right;\">\n",
              "      <th></th>\n",
              "      <th>reviews</th>\n",
              "    </tr>\n",
              "  </thead>\n",
              "  <tbody>\n",
              "    <tr>\n",
              "      <th>0</th>\n",
              "      <td>Super phone go for it</td>\n",
              "    </tr>\n",
              "    <tr>\n",
              "      <th>1</th>\n",
              "      <td>Good 👍</td>\n",
              "    </tr>\n",
              "    <tr>\n",
              "      <th>2</th>\n",
              "      <td>Good product 👍👍👍</td>\n",
              "    </tr>\n",
              "    <tr>\n",
              "      <th>3</th>\n",
              "      <td>so nice in all functions and more in design and colour..</td>\n",
              "    </tr>\n",
              "    <tr>\n",
              "      <th>4</th>\n",
              "      <td>Good</td>\n",
              "    </tr>\n",
              "    <tr>\n",
              "      <th>5</th>\n",
              "      <td>Best Phone 📱 It,s Very Smooth Design Battery 🔋 is Biggest  Phone Design Perfect</td>\n",
              "    </tr>\n",
              "    <tr>\n",
              "      <th>6</th>\n",
              "      <td>Good phone I like u 😊</td>\n",
              "    </tr>\n",
              "    <tr>\n",
              "      <th>7</th>\n",
              "      <td>Worth for moneyGreat DisplaySmooth performance</td>\n",
              "    </tr>\n",
              "    <tr>\n",
              "      <th>8</th>\n",
              "      <td>Nice phone</td>\n",
              "    </tr>\n",
              "    <tr>\n",
              "      <th>9</th>\n",
              "      <td>Amazing</td>\n",
              "    </tr>\n",
              "  </tbody>\n",
              "</table>\n",
              "</div>"
            ],
            "text/plain": [
              "                                                                           reviews\n",
              "0                                                            Super phone go for it\n",
              "1                                                                           Good 👍\n",
              "2                                                                 Good product 👍👍👍\n",
              "3                         so nice in all functions and more in design and colour..\n",
              "4                                                                             Good\n",
              "5  Best Phone 📱 It,s Very Smooth Design Battery 🔋 is Biggest  Phone Design Perfect\n",
              "6                                                            Good phone I like u 😊\n",
              "7                                   Worth for moneyGreat DisplaySmooth performance\n",
              "8                                                                       Nice phone\n",
              "9                                                                          Amazing"
            ]
          },
          "execution_count": 22,
          "metadata": {},
          "output_type": "execute_result"
        }
      ],
      "source": [
        "# DataFrame\n",
        "pd.set_option('max_colwidth', 200)\n",
        "\n",
        "reviews_df = pd.DataFrame(reviews, columns=['reviews'])\n",
        "\n",
        "print(f\"Total Ratings : {total_ratings}\")\n",
        "print(f\"Total Reviews : {total_reviews}\")\n",
        "print(f\"Average Rating : {avg_rating}\")\n",
        "reviews_df"
      ]
    },
    {
      "cell_type": "markdown",
      "metadata": {
        "id": "FZykjq4PxALZ"
      },
      "source": [
        "# **Scraping Multiple Pages (165 pages)**"
      ]
    },
    {
      "cell_type": "code",
      "execution_count": 23,
      "metadata": {
        "id": "bApzNuOyxJIh"
      },
      "outputs": [],
      "source": [
        "product_reviews = []\n",
        "\n",
        "for page in range(1,166):\n",
        "  url = f\"https://www.flipkart.com/realme-11-pro-5g-sunrise-beige-256-gb/product-reviews/itm3f783627a36ec?pid=MOBGPUNGGMRMZDQ9&lid=LSTMOBGPUNGGMRMZDQ9IV1HYJ&marketplace=FLIPKART&page={page}\"\n",
        "  res = requests.get(url)\n",
        "  soup = BeautifulSoup(res.text, 'html.parser')\n",
        "\n",
        "  avg_rating = soup.find('div', class_=\"_2d4LTz\").text.strip()\n",
        "\n",
        "  ratings_n_reveiws = soup.find_all('div', class_=\"row _2afbiS\")\n",
        "  total_ratings = ratings_n_reveiws[0].text.split()[0]\n",
        "  total_reviews = ratings_n_reveiws[1].text.split()[0]\n",
        "\n",
        "  divisions = soup.find_all('div', class_=\"_1AtVbE col-12-12\")\n",
        "\n",
        "  for division in divisions[4:-1]:\n",
        "    review = division.find('div', class_=\"t-ZTKy\").text.split(\"READ MORE\")[0]\n",
        "    product_reviews.append([review])\n"
      ]
    },
    {
      "cell_type": "code",
      "execution_count": 24,
      "metadata": {
        "colab": {
          "base_uri": "https://localhost:8080/",
          "height": 0
        },
        "id": "4ojR0-IdzR0S",
        "outputId": "f49366e1-2be2-4907-f347-5f0760534126"
      },
      "outputs": [
        {
          "data": {
            "text/plain": [
              "1336"
            ]
          },
          "execution_count": 24,
          "metadata": {},
          "output_type": "execute_result"
        }
      ],
      "source": [
        "len(product_reviews)"
      ]
    },
    {
      "cell_type": "markdown",
      "metadata": {
        "id": "JIIHKil709n1"
      },
      "source": [
        "## **Final DataFrame**"
      ]
    },
    {
      "cell_type": "code",
      "execution_count": 25,
      "metadata": {
        "colab": {
          "base_uri": "https://localhost:8080/",
          "height": 475
        },
        "id": "QD5-Egi61DgG",
        "outputId": "e4da9c95-0750-4ad7-ae52-61635843e9e5"
      },
      "outputs": [
        {
          "name": "stdout",
          "output_type": "stream",
          "text": [
            "Total Ratings : 17,546\n",
            "Total Reviews : 1,651\n",
            "Average Rating : 4.3\n"
          ]
        },
        {
          "data": {
            "text/html": [
              "<div>\n",
              "<style scoped>\n",
              "    .dataframe tbody tr th:only-of-type {\n",
              "        vertical-align: middle;\n",
              "    }\n",
              "\n",
              "    .dataframe tbody tr th {\n",
              "        vertical-align: top;\n",
              "    }\n",
              "\n",
              "    .dataframe thead th {\n",
              "        text-align: right;\n",
              "    }\n",
              "</style>\n",
              "<table border=\"1\" class=\"dataframe\">\n",
              "  <thead>\n",
              "    <tr style=\"text-align: right;\">\n",
              "      <th></th>\n",
              "      <th>reviews</th>\n",
              "    </tr>\n",
              "  </thead>\n",
              "  <tbody>\n",
              "    <tr>\n",
              "      <th>0</th>\n",
              "      <td>Super phone go for it</td>\n",
              "    </tr>\n",
              "    <tr>\n",
              "      <th>1</th>\n",
              "      <td>Good 👍</td>\n",
              "    </tr>\n",
              "    <tr>\n",
              "      <th>2</th>\n",
              "      <td>Good product 👍👍👍</td>\n",
              "    </tr>\n",
              "    <tr>\n",
              "      <th>3</th>\n",
              "      <td>so nice in all functions and more in design and colour..</td>\n",
              "    </tr>\n",
              "    <tr>\n",
              "      <th>4</th>\n",
              "      <td>Good</td>\n",
              "    </tr>\n",
              "    <tr>\n",
              "      <th>...</th>\n",
              "      <td>...</td>\n",
              "    </tr>\n",
              "    <tr>\n",
              "      <th>1331</th>\n",
              "      <td>Fantastic..... Brilliant display, mind blowing sound quality and superb camera. Outstanding design. Nothing will be better at this price point. Flagship experience. Thank you Realme. Thank you Fli...</td>\n",
              "    </tr>\n",
              "    <tr>\n",
              "      <th>1332</th>\n",
              "      <td>good but dont buy with lather cover chose with out lather cover</td>\n",
              "    </tr>\n",
              "    <tr>\n",
              "      <th>1333</th>\n",
              "      <td>Phone niceCamer. GoodBater.    Good</td>\n",
              "    </tr>\n",
              "    <tr>\n",
              "      <th>1334</th>\n",
              "      <td>Product is mind blowing excellent 👍👍</td>\n",
              "    </tr>\n",
              "    <tr>\n",
              "      <th>1335</th>\n",
              "      <td>Very nice looking for phone</td>\n",
              "    </tr>\n",
              "  </tbody>\n",
              "</table>\n",
              "<p>1336 rows × 1 columns</p>\n",
              "</div>"
            ],
            "text/plain": [
              "                                                                                                                                                                                                      reviews\n",
              "0                                                                                                                                                                                       Super phone go for it\n",
              "1                                                                                                                                                                                                      Good 👍\n",
              "2                                                                                                                                                                                            Good product 👍👍👍\n",
              "3                                                                                                                                                    so nice in all functions and more in design and colour..\n",
              "4                                                                                                                                                                                                        Good\n",
              "...                                                                                                                                                                                                       ...\n",
              "1331  Fantastic..... Brilliant display, mind blowing sound quality and superb camera. Outstanding design. Nothing will be better at this price point. Flagship experience. Thank you Realme. Thank you Fli...\n",
              "1332                                                                                                                                          good but dont buy with lather cover chose with out lather cover\n",
              "1333                                                                                                                                                                      Phone niceCamer. GoodBater.    Good\n",
              "1334                                                                                                                                                                     Product is mind blowing excellent 👍👍\n",
              "1335                                                                                                                                                                              Very nice looking for phone\n",
              "\n",
              "[1336 rows x 1 columns]"
            ]
          },
          "execution_count": 25,
          "metadata": {},
          "output_type": "execute_result"
        }
      ],
      "source": [
        "final_df = pd.DataFrame(product_reviews, columns=['reviews'])\n",
        "\n",
        "print(f\"Total Ratings : {total_ratings}\")\n",
        "print(f\"Total Reviews : {total_reviews}\")\n",
        "print(f\"Average Rating : {avg_rating}\")\n",
        "\n",
        "final_df"
      ]
    },
    {
      "cell_type": "markdown",
      "metadata": {},
      "source": [
        "### **Convert DataFrame to CSV**"
      ]
    },
    {
      "cell_type": "code",
      "execution_count": 26,
      "metadata": {},
      "outputs": [],
      "source": [
        "final_df.to_csv(\"product_reviews.csv\")"
      ]
    }
  ],
  "metadata": {
    "colab": {
      "provenance": []
    },
    "kernelspec": {
      "display_name": "Python 3",
      "name": "python3"
    },
    "language_info": {
      "codemirror_mode": {
        "name": "ipython",
        "version": 3
      },
      "file_extension": ".py",
      "mimetype": "text/x-python",
      "name": "python",
      "nbconvert_exporter": "python",
      "pygments_lexer": "ipython3",
      "version": "3.10.9"
    }
  },
  "nbformat": 4,
  "nbformat_minor": 0
}
